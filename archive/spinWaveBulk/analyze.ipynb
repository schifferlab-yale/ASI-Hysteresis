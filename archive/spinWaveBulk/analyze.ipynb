{
 "cells": [
  {
   "cell_type": "code",
   "execution_count": 1,
   "metadata": {},
   "outputs": [
    {
     "ename": "KeyboardInterrupt",
     "evalue": "",
     "output_type": "error",
     "traceback": [
      "\u001b[1;31m---------------------------------------------------------------------------\u001b[0m",
      "\u001b[1;31mKeyboardInterrupt\u001b[0m                         Traceback (most recent call last)",
      "\u001b[1;32mc:\\Users\\Schif\\Desktop\\Grant\\newIsland\\spinWaveBulk\\analyze.ipynb Cell 1\u001b[0m in \u001b[0;36m<cell line: 29>\u001b[1;34m()\u001b[0m\n\u001b[0;32m     <a href='vscode-notebook-cell:/c%3A/Users/Schif/Desktop/Grant/newIsland/spinWaveBulk/analyze.ipynb#W0sZmlsZQ%3D%3D?line=27'>28</a>\u001b[0m runs\u001b[39m=\u001b[39m{}\n\u001b[0;32m     <a href='vscode-notebook-cell:/c%3A/Users/Schif/Desktop/Grant/newIsland/spinWaveBulk/analyze.ipynb#W0sZmlsZQ%3D%3D?line=28'>29</a>\u001b[0m \u001b[39mfor\u001b[39;00m pointiness \u001b[39min\u001b[39;00m [\u001b[39m0\u001b[39m,\u001b[39m0.1\u001b[39m,\u001b[39m0.2\u001b[39m,\u001b[39m0.3\u001b[39m,\u001b[39m0.4\u001b[39m,\u001b[39m0.5\u001b[39m,\u001b[39m0.6\u001b[39m,\u001b[39m0.7\u001b[39m,\u001b[39m0.8\u001b[39m,\u001b[39m0.9\u001b[39m,\u001b[39m1\u001b[39m]:\n\u001b[1;32m---> <a href='vscode-notebook-cell:/c%3A/Users/Schif/Desktop/Grant/newIsland/spinWaveBulk/analyze.ipynb#W0sZmlsZQ%3D%3D?line=29'>30</a>\u001b[0m     files\u001b[39m=\u001b[39mread_mumax3_ovffiles(\u001b[39mf\u001b[39;49m\u001b[39m\"\u001b[39;49m\u001b[39mpointinessData/pointiness-\u001b[39;49m\u001b[39m{\u001b[39;49;00mpointiness\u001b[39m}\u001b[39;49;00m\u001b[39m.out\u001b[39;49m\u001b[39m\"\u001b[39;49m)\n\u001b[0;32m     <a href='vscode-notebook-cell:/c%3A/Users/Schif/Desktop/Grant/newIsland/spinWaveBulk/analyze.ipynb#W0sZmlsZQ%3D%3D?line=30'>31</a>\u001b[0m     snapshots\u001b[39m=\u001b[39m[files[fileName] \u001b[39mfor\u001b[39;00m fileName \u001b[39min\u001b[39;00m \u001b[39msorted\u001b[39m(files\u001b[39m.\u001b[39mkeys())]\n\u001b[0;32m     <a href='vscode-notebook-cell:/c%3A/Users/Schif/Desktop/Grant/newIsland/spinWaveBulk/analyze.ipynb#W0sZmlsZQ%3D%3D?line=31'>32</a>\u001b[0m     m \u001b[39m=\u001b[39m np\u001b[39m.\u001b[39mstack(snapshots)\n",
      "\u001b[1;32mc:\\Users\\Schif\\Desktop\\Grant\\newIsland\\spinWaveBulk\\analyze.ipynb Cell 1\u001b[0m in \u001b[0;36mread_mumax3_ovffiles\u001b[1;34m(outputdir)\u001b[0m\n\u001b[0;32m     <a href='vscode-notebook-cell:/c%3A/Users/Schif/Desktop/Grant/newIsland/spinWaveBulk/analyze.ipynb#W0sZmlsZQ%3D%3D?line=21'>22</a>\u001b[0m \u001b[39mfor\u001b[39;00m npyfile \u001b[39min\u001b[39;00m glob(outputdir\u001b[39m+\u001b[39m\u001b[39m\"\u001b[39m\u001b[39m/*.npy\u001b[39m\u001b[39m\"\u001b[39m):\n\u001b[0;32m     <a href='vscode-notebook-cell:/c%3A/Users/Schif/Desktop/Grant/newIsland/spinWaveBulk/analyze.ipynb#W0sZmlsZQ%3D%3D?line=22'>23</a>\u001b[0m     key \u001b[39m=\u001b[39m path\u001b[39m.\u001b[39msplitext(path\u001b[39m.\u001b[39mbasename(npyfile))[\u001b[39m0\u001b[39m]\n\u001b[1;32m---> <a href='vscode-notebook-cell:/c%3A/Users/Schif/Desktop/Grant/newIsland/spinWaveBulk/analyze.ipynb#W0sZmlsZQ%3D%3D?line=23'>24</a>\u001b[0m     fields[key] \u001b[39m=\u001b[39m load(npyfile)\n\u001b[0;32m     <a href='vscode-notebook-cell:/c%3A/Users/Schif/Desktop/Grant/newIsland/spinWaveBulk/analyze.ipynb#W0sZmlsZQ%3D%3D?line=25'>26</a>\u001b[0m \u001b[39mreturn\u001b[39;00m fields\n",
      "File \u001b[1;32m~\\AppData\\Roaming\\Python\\Python310\\site-packages\\numpy\\lib\\npyio.py:413\u001b[0m, in \u001b[0;36mload\u001b[1;34m(file, mmap_mode, allow_pickle, fix_imports, encoding)\u001b[0m\n\u001b[0;32m    411\u001b[0m         \u001b[39mreturn\u001b[39;00m \u001b[39mformat\u001b[39m\u001b[39m.\u001b[39mopen_memmap(file, mode\u001b[39m=\u001b[39mmmap_mode)\n\u001b[0;32m    412\u001b[0m     \u001b[39melse\u001b[39;00m:\n\u001b[1;32m--> 413\u001b[0m         \u001b[39mreturn\u001b[39;00m \u001b[39mformat\u001b[39;49m\u001b[39m.\u001b[39;49mread_array(fid, allow_pickle\u001b[39m=\u001b[39;49mallow_pickle,\n\u001b[0;32m    414\u001b[0m                                  pickle_kwargs\u001b[39m=\u001b[39;49mpickle_kwargs)\n\u001b[0;32m    415\u001b[0m \u001b[39melse\u001b[39;00m:\n\u001b[0;32m    416\u001b[0m     \u001b[39m# Try a pickle\u001b[39;00m\n\u001b[0;32m    417\u001b[0m     \u001b[39mif\u001b[39;00m \u001b[39mnot\u001b[39;00m allow_pickle:\n",
      "File \u001b[1;32m~\\AppData\\Roaming\\Python\\Python310\\site-packages\\numpy\\lib\\format.py:755\u001b[0m, in \u001b[0;36mread_array\u001b[1;34m(fp, allow_pickle, pickle_kwargs)\u001b[0m\n\u001b[0;32m    752\u001b[0m \u001b[39melse\u001b[39;00m:\n\u001b[0;32m    753\u001b[0m     \u001b[39mif\u001b[39;00m isfileobj(fp):\n\u001b[0;32m    754\u001b[0m         \u001b[39m# We can use the fast fromfile() function.\u001b[39;00m\n\u001b[1;32m--> 755\u001b[0m         array \u001b[39m=\u001b[39m numpy\u001b[39m.\u001b[39;49mfromfile(fp, dtype\u001b[39m=\u001b[39;49mdtype, count\u001b[39m=\u001b[39;49mcount)\n\u001b[0;32m    756\u001b[0m     \u001b[39melse\u001b[39;00m:\n\u001b[0;32m    757\u001b[0m         \u001b[39m# This is not a real file. We have to read it the\u001b[39;00m\n\u001b[0;32m    758\u001b[0m         \u001b[39m# memory-intensive way.\u001b[39;00m\n\u001b[1;32m   (...)\u001b[0m\n\u001b[0;32m    766\u001b[0m         \u001b[39m# not correctly instantiate zero-width string dtypes; see\u001b[39;00m\n\u001b[0;32m    767\u001b[0m         \u001b[39m# https://github.com/numpy/numpy/pull/6430\u001b[39;00m\n\u001b[0;32m    768\u001b[0m         array \u001b[39m=\u001b[39m numpy\u001b[39m.\u001b[39mndarray(count, dtype\u001b[39m=\u001b[39mdtype)\n",
      "\u001b[1;31mKeyboardInterrupt\u001b[0m: "
     ]
    }
   ],
   "source": [
    "import matplotlib.pyplot as plt\n",
    "import matplotlib as mpl\n",
    "import numpy as np\n",
    "\n",
    "#https://colab.research.google.com/github/JeroenMulkers/mumax3-tutorial/blob/master/postprocessing.ipynb#scrollTo=apKunwIp0s6_\n",
    "def read_mumax3_ovffiles(outputdir):\n",
    "    \"\"\"Load all ovffiles in outputdir into a dictionary of numpy arrays \n",
    "    with the ovffilename (without extension) as key\"\"\"\n",
    "    \n",
    "    from subprocess import run, PIPE, STDOUT\n",
    "    from glob import glob\n",
    "    from os import path\n",
    "    from numpy import load\n",
    "\n",
    "    # convert all ovf files in the output directory to numpy files\n",
    "    \"\"\"p = run([\"mumax3-convert\",\"-numpy\",outputdir+\"/*.ovf\"], stdout=PIPE, stderr=STDOUT)\n",
    "    if p.returncode != 0:\n",
    "        print(p.stdout.decode('UTF-8'))\"\"\"\n",
    "\n",
    "    # read the numpy files (the converted ovf files)\n",
    "    fields = {}\n",
    "    for npyfile in glob(outputdir+\"/*.npy\"):\n",
    "        key = path.splitext(path.basename(npyfile))[0]\n",
    "        fields[key] = load(npyfile)\n",
    "    \n",
    "    return fields\n",
    "\n",
    "runs={}\n",
    "for pointiness in [0,0.1,0.2,0.3,0.4,0.5,0.6,0.7,0.8,0.9,1]:\n",
    "    files=read_mumax3_ovffiles(f\"pointinessData/pointiness-{pointiness}.out\")\n",
    "    snapshots=[files[fileName] for fileName in sorted(files.keys())]\n",
    "    m = np.stack(snapshots)\n",
    "    runs[pointiness]=m\n",
    "\n",
    "dt=20e-12"
   ]
  },
  {
   "cell_type": "code",
   "execution_count": 17,
   "metadata": {},
   "outputs": [],
   "source": [
    "def getRunFFT(m):\n",
    "    n=len(m)\n",
    "\n",
    "    height=len(m[0][0][0])\n",
    "    width=len(m[0][0][0][0])\n",
    "\n",
    "    freqs=np.fft.fftfreq(n,dt)[:n//2]\n",
    "\n",
    "    frequencies=np.zeros((height,width,len(freqs)),dtype=np.float64)\n",
    "    for y in range(height):\n",
    "        for x in range(width):\n",
    "            if m[0,0,0,y,x]==0 and m[0,1,0,y,x]==0:\n",
    "                continue\n",
    "                pass\n",
    "            xData=m[:,0,2,y,x]\n",
    "\n",
    "            xFFT=np.fft.fft(xData)[:n//2]\n",
    "            frequencies[y][x]=np.abs(xFFT)\n",
    "\n",
    "    return freqs,frequencies\n",
    "\n",
    "fftData={}\n",
    "for name,m in runs.items():\n",
    "    fftData[name]=getRunFFT(m)"
   ]
  },
  {
   "cell_type": "code",
   "execution_count": 73,
   "metadata": {},
   "outputs": [
    {
     "name": "stderr",
     "output_type": "stream",
     "text": [
      "C:\\Users\\Schif\\AppData\\Local\\Temp\\ipykernel_31628\\2156894733.py:36: VisibleDeprecationWarning: Creating an ndarray from ragged nested sequences (which is a list-or-tuple of lists-or-tuples-or ndarrays with different lengths or shapes) is deprecated. If you meant to do this, you must specify 'dtype=object' when creating the ndarray.\n",
      "  return np.array(out)\n"
     ]
    },
    {
     "data": {
      "image/png": "[encoded data removed]",
      "text/plain": [
       "<Figure size 432x288 with 1 Axes>"
      ]
     },
     "metadata": {
      "needs_background": "light"
     },
     "output_type": "display_data"
    }
   ],
   "source": [
    "def runAnalysis(fftData,run):\n",
    "    frequencies=fftData[1]\n",
    "    freqs=fftData[0]\n",
    "\n",
    "    peakFreqsI=np.argsort(-frequencies,axis=2)\n",
    "    \n",
    "    peakFreqs=freqs[peakFreqsI]\n",
    "    print(peakFreqs)\n",
    "    #plt.imshow(peakFreqs[:,:,0])\n",
    "\n",
    "\n",
    "    uniquePeaksI=np.unique(peakFreqsI[:,:,0:5])\n",
    "    print(freqs[uniquePeaksI])\n",
    "    for i in uniquePeaksI:\n",
    "        plt.imshow(np.abs(frequencies[:,:,i]),cmap=\"plasma\")\n",
    "        plt.title(f\"X Oscillation amplitude at {round(freqs[i]*1e-9,2)}GHz\")\n",
    "        plt.colorbar()\n",
    "        plt.show()\n",
    "\n",
    "def getOverallFFT(fftData,run):\n",
    "    frequencies=fftData[1]#[y,x,frequency]\n",
    "    freqs=fftData[0]\n",
    "\n",
    "    allFreqs=np.sum(np.sum(frequencies,axis=(0)),axis=0)\n",
    "    return allFreqs\n",
    "\n",
    "\n",
    "def getAdjacentRuns(arr):\n",
    "    adjacent=False\n",
    "    out=[]\n",
    "    for el in arr:\n",
    "        if len(out)==0 or out[-1][-1]!=el-1:\n",
    "            out.append([el])\n",
    "        else:\n",
    "            out[-1].append(el)\n",
    "    return np.array(out)\n",
    "\n",
    "def getTopFrequencies(fftData,run):\n",
    "    frequencies=fftData[1]\n",
    "    freqs=fftData[0]\n",
    "\n",
    "    peakFreqsI=np.argsort(-frequencies,axis=2)\n",
    "    \n",
    "    peakFreqs=freqs[peakFreqsI]\n",
    "    #print(peakFreqs)\n",
    "    #plt.imshow(peakFreqs[:,:,0])\n",
    "\n",
    "\n",
    "    uniquePeaksI=np.unique(peakFreqsI[:,:,0:10])\n",
    "\n",
    "    groups=getAdjacentRuns(uniquePeaksI)\n",
    "    #print(groups)\n",
    "\n",
    "    overallFFT=getOverallFFT(fftData,run)\n",
    "    peaksI=[]\n",
    "    for group in groups:\n",
    "        overallVals=[overallFFT[i] for i in group]\n",
    "        bestVal=group[np.argmax(overallVals)]\n",
    "        peaksI.append(bestVal)\n",
    "        #plt.scatter(group,group)\n",
    "    \n",
    "    \n",
    "    #plt.scatter(peaksI,peaksI,c=\"k\")\n",
    "    #print(peaksI)\n",
    "    return peaksI\n",
    "\n",
    "    #plt.scatter(range(len(uniquePeaksI)),uniquePeaksI)\n",
    "\n",
    "def plotFreq(fftData,run,freq):\n",
    "    frequencies=fftData[1]\n",
    "    freqs=fftData[0]\n",
    "\n",
    "    plt.imshow(np.abs(frequencies[:,:,freq]),cmap=\"plasma\")\n",
    "    plt.title(f\"X Oscillation amplitude at {round(freqs[freq]*1e-9,2)}GHz\")\n",
    "    plt.colorbar()\n",
    "    plt.show()\n",
    "\n",
    "#frequencyPlot(fftData[1],runs[1])\n",
    "#runAnalysis(fftData[0.5],runs[0.5])\n",
    "\"\"\"topFreqs=getTopFrequencies(fftData[0.5],runs[0.5])\n",
    "for freq in topFreqs:\n",
    "    plotFreq(fftData[0.5],runs[0.5],freq)\"\"\"\n",
    "\n",
    "pointinesses=[0,0.1,0.2,0.3,0.4,0.5,0.6,0.7,0.8,0.9,1]\n",
    "topFreqs=[]\n",
    "for pointiness in pointinesses:\n",
    "    topFreqs.append(getTopFrequencies(fftData[pointiness],runs[pointiness]))\n",
    "\n",
    "for pointiness,freqs in zip(pointinesses,topFreqs):\n",
    "    plt.scatter([pointiness]*len(freqs),freqs)\n"
   ]
  }
 ],
 "metadata": {
  "kernelspec": {
   "display_name": "Python 3",
   "language": "python",
   "name": "python3"
  },
  "language_info": {
   "codemirror_mode": {
    "name": "ipython",
    "version": 3
   },
   "file_extension": ".py",
   "mimetype": "text/x-python",
   "name": "python",
   "nbconvert_exporter": "python",
   "pygments_lexer": "ipython3",
   "version": "3.10.5"
  },
  "orig_nbformat": 4,
  "vscode": {
   "interpreter": {
    "hash": "26de051ba29f2982a8de78e945f0abaf191376122a1563185a90213a26c5da77"
   }
  }
 },
 "nbformat": 4,
 "nbformat_minor": 2
}
